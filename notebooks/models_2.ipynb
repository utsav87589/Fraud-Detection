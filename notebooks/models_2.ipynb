{
 "cells": [
  {
   "cell_type": "markdown",
   "id": "4a42d905",
   "metadata": {},
   "source": [
    "## Algorithm testing : 2"
   ]
  },
  {
   "cell_type": "code",
   "execution_count": 1,
   "id": "26800603",
   "metadata": {},
   "outputs": [],
   "source": [
    "### here I am gonna test the models by dropping\n",
    "### the both two columns failed_transaction_count_7d and risk_score"
   ]
  },
  {
   "cell_type": "code",
   "execution_count": 16,
   "id": "0ef4702d",
   "metadata": {},
   "outputs": [],
   "source": [
    "import pandas as pd\n",
    "import numpy as np\n",
    "import matplotlib.pyplot as plt\n",
    "%matplotlib inline\n",
    "import seaborn as sns"
   ]
  },
  {
   "cell_type": "markdown",
   "id": "2dc9afc6",
   "metadata": {},
   "source": [
    "### loading the data (distance)"
   ]
  },
  {
   "cell_type": "code",
   "execution_count": 2,
   "id": "57b005aa",
   "metadata": {},
   "outputs": [
    {
     "data": {
      "text/html": [
       "<div>\n",
       "<style scoped>\n",
       "    .dataframe tbody tr th:only-of-type {\n",
       "        vertical-align: middle;\n",
       "    }\n",
       "\n",
       "    .dataframe tbody tr th {\n",
       "        vertical-align: top;\n",
       "    }\n",
       "\n",
       "    .dataframe thead th {\n",
       "        text-align: right;\n",
       "    }\n",
       "</style>\n",
       "<table border=\"1\" class=\"dataframe\">\n",
       "  <thead>\n",
       "    <tr style=\"text-align: right;\">\n",
       "      <th></th>\n",
       "      <th>Unnamed: 0</th>\n",
       "      <th>transaction_type_ATM Withdrawal</th>\n",
       "      <th>transaction_type_Online</th>\n",
       "      <th>transaction_type_POS</th>\n",
       "      <th>device_type_Laptop</th>\n",
       "      <th>device_type_Mobile</th>\n",
       "      <th>location_Mumbai</th>\n",
       "      <th>location_New York</th>\n",
       "      <th>location_Sydney</th>\n",
       "      <th>location_Tokyo</th>\n",
       "      <th>...</th>\n",
       "      <th>Account_Balance</th>\n",
       "      <th>Daily_Transaction_Count</th>\n",
       "      <th>Avg_Transaction_Amount_7d</th>\n",
       "      <th>Failed_Transaction_Count_7d</th>\n",
       "      <th>Card_Age</th>\n",
       "      <th>Transaction_Distance</th>\n",
       "      <th>Risk_Score</th>\n",
       "      <th>Is_Weekend</th>\n",
       "      <th>Transaction_Amount_boxcox</th>\n",
       "      <th>Fraud_Label</th>\n",
       "    </tr>\n",
       "  </thead>\n",
       "  <tbody>\n",
       "    <tr>\n",
       "      <th>0</th>\n",
       "      <td>0</td>\n",
       "      <td>0</td>\n",
       "      <td>0</td>\n",
       "      <td>1</td>\n",
       "      <td>1</td>\n",
       "      <td>0</td>\n",
       "      <td>0</td>\n",
       "      <td>0</td>\n",
       "      <td>1</td>\n",
       "      <td>0</td>\n",
       "      <td>...</td>\n",
       "      <td>0.931806</td>\n",
       "      <td>7</td>\n",
       "      <td>0.872714</td>\n",
       "      <td>3</td>\n",
       "      <td>65</td>\n",
       "      <td>0.176595</td>\n",
       "      <td>0.8494</td>\n",
       "      <td>0</td>\n",
       "      <td>0.325913</td>\n",
       "      <td>0</td>\n",
       "    </tr>\n",
       "    <tr>\n",
       "      <th>1</th>\n",
       "      <td>1</td>\n",
       "      <td>0</td>\n",
       "      <td>0</td>\n",
       "      <td>0</td>\n",
       "      <td>0</td>\n",
       "      <td>1</td>\n",
       "      <td>0</td>\n",
       "      <td>1</td>\n",
       "      <td>0</td>\n",
       "      <td>0</td>\n",
       "      <td>...</td>\n",
       "      <td>0.756044</td>\n",
       "      <td>13</td>\n",
       "      <td>0.956653</td>\n",
       "      <td>4</td>\n",
       "      <td>186</td>\n",
       "      <td>0.440650</td>\n",
       "      <td>0.0959</td>\n",
       "      <td>0</td>\n",
       "      <td>0.047409</td>\n",
       "      <td>1</td>\n",
       "    </tr>\n",
       "    <tr>\n",
       "      <th>2</th>\n",
       "      <td>2</td>\n",
       "      <td>0</td>\n",
       "      <td>1</td>\n",
       "      <td>0</td>\n",
       "      <td>0</td>\n",
       "      <td>0</td>\n",
       "      <td>1</td>\n",
       "      <td>0</td>\n",
       "      <td>0</td>\n",
       "      <td>0</td>\n",
       "      <td>...</td>\n",
       "      <td>0.010940</td>\n",
       "      <td>14</td>\n",
       "      <td>0.081653</td>\n",
       "      <td>4</td>\n",
       "      <td>226</td>\n",
       "      <td>0.381832</td>\n",
       "      <td>0.8400</td>\n",
       "      <td>0</td>\n",
       "      <td>0.286719</td>\n",
       "      <td>1</td>\n",
       "    </tr>\n",
       "    <tr>\n",
       "      <th>3</th>\n",
       "      <td>3</td>\n",
       "      <td>1</td>\n",
       "      <td>0</td>\n",
       "      <td>0</td>\n",
       "      <td>0</td>\n",
       "      <td>0</td>\n",
       "      <td>0</td>\n",
       "      <td>1</td>\n",
       "      <td>0</td>\n",
       "      <td>0</td>\n",
       "      <td>...</td>\n",
       "      <td>0.766918</td>\n",
       "      <td>8</td>\n",
       "      <td>0.352000</td>\n",
       "      <td>4</td>\n",
       "      <td>76</td>\n",
       "      <td>0.262339</td>\n",
       "      <td>0.7935</td>\n",
       "      <td>0</td>\n",
       "      <td>0.627847</td>\n",
       "      <td>1</td>\n",
       "    </tr>\n",
       "    <tr>\n",
       "      <th>4</th>\n",
       "      <td>4</td>\n",
       "      <td>0</td>\n",
       "      <td>0</td>\n",
       "      <td>1</td>\n",
       "      <td>0</td>\n",
       "      <td>1</td>\n",
       "      <td>1</td>\n",
       "      <td>0</td>\n",
       "      <td>0</td>\n",
       "      <td>0</td>\n",
       "      <td>...</td>\n",
       "      <td>0.923178</td>\n",
       "      <td>14</td>\n",
       "      <td>0.650388</td>\n",
       "      <td>4</td>\n",
       "      <td>140</td>\n",
       "      <td>0.193358</td>\n",
       "      <td>0.3819</td>\n",
       "      <td>1</td>\n",
       "      <td>0.295933</td>\n",
       "      <td>1</td>\n",
       "    </tr>\n",
       "  </tbody>\n",
       "</table>\n",
       "<p>5 rows × 30 columns</p>\n",
       "</div>"
      ],
      "text/plain": [
       "   Unnamed: 0  transaction_type_ATM Withdrawal  transaction_type_Online  \\\n",
       "0           0                                0                        0   \n",
       "1           1                                0                        0   \n",
       "2           2                                0                        1   \n",
       "3           3                                1                        0   \n",
       "4           4                                0                        0   \n",
       "\n",
       "   transaction_type_POS  device_type_Laptop  device_type_Mobile  \\\n",
       "0                     1                   1                   0   \n",
       "1                     0                   0                   1   \n",
       "2                     0                   0                   0   \n",
       "3                     0                   0                   0   \n",
       "4                     1                   0                   1   \n",
       "\n",
       "   location_Mumbai  location_New York  location_Sydney  location_Tokyo  ...  \\\n",
       "0                0                  0                1               0  ...   \n",
       "1                0                  1                0               0  ...   \n",
       "2                1                  0                0               0  ...   \n",
       "3                0                  1                0               0  ...   \n",
       "4                1                  0                0               0  ...   \n",
       "\n",
       "   Account_Balance  Daily_Transaction_Count  Avg_Transaction_Amount_7d  \\\n",
       "0         0.931806                        7                   0.872714   \n",
       "1         0.756044                       13                   0.956653   \n",
       "2         0.010940                       14                   0.081653   \n",
       "3         0.766918                        8                   0.352000   \n",
       "4         0.923178                       14                   0.650388   \n",
       "\n",
       "   Failed_Transaction_Count_7d  Card_Age  Transaction_Distance  Risk_Score  \\\n",
       "0                            3        65              0.176595      0.8494   \n",
       "1                            4       186              0.440650      0.0959   \n",
       "2                            4       226              0.381832      0.8400   \n",
       "3                            4        76              0.262339      0.7935   \n",
       "4                            4       140              0.193358      0.3819   \n",
       "\n",
       "   Is_Weekend  Transaction_Amount_boxcox  Fraud_Label  \n",
       "0           0                   0.325913            0  \n",
       "1           0                   0.047409            1  \n",
       "2           0                   0.286719            1  \n",
       "3           0                   0.627847            1  \n",
       "4           1                   0.295933            1  \n",
       "\n",
       "[5 rows x 30 columns]"
      ]
     },
     "execution_count": 2,
     "metadata": {},
     "output_type": "execute_result"
    }
   ],
   "source": [
    "df_distance = pd.read_csv('../data/distance_based.csv')\n",
    "df_distance.head()"
   ]
  },
  {
   "cell_type": "code",
   "execution_count": 3,
   "id": "33e8ffc1",
   "metadata": {},
   "outputs": [
    {
     "name": "stdout",
     "output_type": "stream",
     "text": [
      "Fraud_Label                        1.000000\n",
      "Failed_Transaction_Count_7d        0.509871\n",
      "Risk_Score                         0.385810\n",
      "merchant_Restaurants               0.005285\n",
      "auth_method_OTP                    0.004696\n",
      "card_type_Discover                 0.004424\n",
      "transaction_type_ATM Withdrawal    0.004392\n",
      "location_New York                  0.003750\n",
      "location_Tokyo                     0.003693\n",
      "card_type_Amex                     0.003001\n",
      "merchant_Travel                    0.001796\n",
      "Avg_Transaction_Amount_7d          0.000703\n",
      "Transaction_Amount_boxcox          0.000687\n",
      "Is_Weekend                         0.000064\n",
      "location_Sydney                    0.000056\n",
      "transaction_type_Online           -0.000053\n",
      "Transaction_Distance              -0.000116\n",
      "merchant_Groceries                -0.000268\n",
      "auth_method_Biometric             -0.000789\n",
      "merchant_Electronics              -0.002207\n",
      "device_type_Laptop                -0.002742\n",
      "Card_Age                          -0.003120\n",
      "Account_Balance                   -0.003153\n",
      "Unnamed: 0                        -0.003265\n",
      "card_type_Visa                    -0.003360\n",
      "transaction_type_POS              -0.003704\n",
      "device_type_Mobile                -0.003826\n",
      "location_Mumbai                   -0.005941\n",
      "auth_method_PIN                   -0.006551\n",
      "Daily_Transaction_Count           -0.007065\n",
      "Name: Fraud_Label, dtype: float64\n"
     ]
    }
   ],
   "source": [
    "corelation = df_distance.corr()['Fraud_Label'].sort_values(ascending = False)\n",
    "print(corelation)"
   ]
  },
  {
   "cell_type": "code",
   "execution_count": 4,
   "id": "ba363f49",
   "metadata": {},
   "outputs": [
    {
     "data": {
      "text/html": [
       "<div>\n",
       "<style scoped>\n",
       "    .dataframe tbody tr th:only-of-type {\n",
       "        vertical-align: middle;\n",
       "    }\n",
       "\n",
       "    .dataframe tbody tr th {\n",
       "        vertical-align: top;\n",
       "    }\n",
       "\n",
       "    .dataframe thead th {\n",
       "        text-align: right;\n",
       "    }\n",
       "</style>\n",
       "<table border=\"1\" class=\"dataframe\">\n",
       "  <thead>\n",
       "    <tr style=\"text-align: right;\">\n",
       "      <th></th>\n",
       "      <th>transaction_type_ATM Withdrawal</th>\n",
       "      <th>transaction_type_Online</th>\n",
       "      <th>transaction_type_POS</th>\n",
       "      <th>device_type_Laptop</th>\n",
       "      <th>device_type_Mobile</th>\n",
       "      <th>location_Mumbai</th>\n",
       "      <th>location_New York</th>\n",
       "      <th>location_Sydney</th>\n",
       "      <th>location_Tokyo</th>\n",
       "      <th>merchant_Electronics</th>\n",
       "      <th>...</th>\n",
       "      <th>card_type_Discover</th>\n",
       "      <th>card_type_Visa</th>\n",
       "      <th>Account_Balance</th>\n",
       "      <th>Daily_Transaction_Count</th>\n",
       "      <th>Avg_Transaction_Amount_7d</th>\n",
       "      <th>Card_Age</th>\n",
       "      <th>Transaction_Distance</th>\n",
       "      <th>Is_Weekend</th>\n",
       "      <th>Transaction_Amount_boxcox</th>\n",
       "      <th>Fraud_Label</th>\n",
       "    </tr>\n",
       "  </thead>\n",
       "  <tbody>\n",
       "    <tr>\n",
       "      <th>0</th>\n",
       "      <td>0</td>\n",
       "      <td>0</td>\n",
       "      <td>1</td>\n",
       "      <td>1</td>\n",
       "      <td>0</td>\n",
       "      <td>0</td>\n",
       "      <td>0</td>\n",
       "      <td>1</td>\n",
       "      <td>0</td>\n",
       "      <td>0</td>\n",
       "      <td>...</td>\n",
       "      <td>0</td>\n",
       "      <td>0</td>\n",
       "      <td>0.931806</td>\n",
       "      <td>7</td>\n",
       "      <td>0.872714</td>\n",
       "      <td>65</td>\n",
       "      <td>0.176595</td>\n",
       "      <td>0</td>\n",
       "      <td>0.325913</td>\n",
       "      <td>0</td>\n",
       "    </tr>\n",
       "    <tr>\n",
       "      <th>1</th>\n",
       "      <td>0</td>\n",
       "      <td>0</td>\n",
       "      <td>0</td>\n",
       "      <td>0</td>\n",
       "      <td>1</td>\n",
       "      <td>0</td>\n",
       "      <td>1</td>\n",
       "      <td>0</td>\n",
       "      <td>0</td>\n",
       "      <td>0</td>\n",
       "      <td>...</td>\n",
       "      <td>0</td>\n",
       "      <td>0</td>\n",
       "      <td>0.756044</td>\n",
       "      <td>13</td>\n",
       "      <td>0.956653</td>\n",
       "      <td>186</td>\n",
       "      <td>0.440650</td>\n",
       "      <td>0</td>\n",
       "      <td>0.047409</td>\n",
       "      <td>1</td>\n",
       "    </tr>\n",
       "    <tr>\n",
       "      <th>2</th>\n",
       "      <td>0</td>\n",
       "      <td>1</td>\n",
       "      <td>0</td>\n",
       "      <td>0</td>\n",
       "      <td>0</td>\n",
       "      <td>1</td>\n",
       "      <td>0</td>\n",
       "      <td>0</td>\n",
       "      <td>0</td>\n",
       "      <td>0</td>\n",
       "      <td>...</td>\n",
       "      <td>0</td>\n",
       "      <td>1</td>\n",
       "      <td>0.010940</td>\n",
       "      <td>14</td>\n",
       "      <td>0.081653</td>\n",
       "      <td>226</td>\n",
       "      <td>0.381832</td>\n",
       "      <td>0</td>\n",
       "      <td>0.286719</td>\n",
       "      <td>1</td>\n",
       "    </tr>\n",
       "    <tr>\n",
       "      <th>3</th>\n",
       "      <td>1</td>\n",
       "      <td>0</td>\n",
       "      <td>0</td>\n",
       "      <td>0</td>\n",
       "      <td>0</td>\n",
       "      <td>0</td>\n",
       "      <td>1</td>\n",
       "      <td>0</td>\n",
       "      <td>0</td>\n",
       "      <td>0</td>\n",
       "      <td>...</td>\n",
       "      <td>0</td>\n",
       "      <td>1</td>\n",
       "      <td>0.766918</td>\n",
       "      <td>8</td>\n",
       "      <td>0.352000</td>\n",
       "      <td>76</td>\n",
       "      <td>0.262339</td>\n",
       "      <td>0</td>\n",
       "      <td>0.627847</td>\n",
       "      <td>1</td>\n",
       "    </tr>\n",
       "    <tr>\n",
       "      <th>4</th>\n",
       "      <td>0</td>\n",
       "      <td>0</td>\n",
       "      <td>1</td>\n",
       "      <td>0</td>\n",
       "      <td>1</td>\n",
       "      <td>1</td>\n",
       "      <td>0</td>\n",
       "      <td>0</td>\n",
       "      <td>0</td>\n",
       "      <td>1</td>\n",
       "      <td>...</td>\n",
       "      <td>0</td>\n",
       "      <td>0</td>\n",
       "      <td>0.923178</td>\n",
       "      <td>14</td>\n",
       "      <td>0.650388</td>\n",
       "      <td>140</td>\n",
       "      <td>0.193358</td>\n",
       "      <td>1</td>\n",
       "      <td>0.295933</td>\n",
       "      <td>1</td>\n",
       "    </tr>\n",
       "  </tbody>\n",
       "</table>\n",
       "<p>5 rows × 27 columns</p>\n",
       "</div>"
      ],
      "text/plain": [
       "   transaction_type_ATM Withdrawal  transaction_type_Online  \\\n",
       "0                                0                        0   \n",
       "1                                0                        0   \n",
       "2                                0                        1   \n",
       "3                                1                        0   \n",
       "4                                0                        0   \n",
       "\n",
       "   transaction_type_POS  device_type_Laptop  device_type_Mobile  \\\n",
       "0                     1                   1                   0   \n",
       "1                     0                   0                   1   \n",
       "2                     0                   0                   0   \n",
       "3                     0                   0                   0   \n",
       "4                     1                   0                   1   \n",
       "\n",
       "   location_Mumbai  location_New York  location_Sydney  location_Tokyo  \\\n",
       "0                0                  0                1               0   \n",
       "1                0                  1                0               0   \n",
       "2                1                  0                0               0   \n",
       "3                0                  1                0               0   \n",
       "4                1                  0                0               0   \n",
       "\n",
       "   merchant_Electronics  ...  card_type_Discover  card_type_Visa  \\\n",
       "0                     0  ...                   0               0   \n",
       "1                     0  ...                   0               0   \n",
       "2                     0  ...                   0               1   \n",
       "3                     0  ...                   0               1   \n",
       "4                     1  ...                   0               0   \n",
       "\n",
       "   Account_Balance  Daily_Transaction_Count  Avg_Transaction_Amount_7d  \\\n",
       "0         0.931806                        7                   0.872714   \n",
       "1         0.756044                       13                   0.956653   \n",
       "2         0.010940                       14                   0.081653   \n",
       "3         0.766918                        8                   0.352000   \n",
       "4         0.923178                       14                   0.650388   \n",
       "\n",
       "   Card_Age  Transaction_Distance  Is_Weekend  Transaction_Amount_boxcox  \\\n",
       "0        65              0.176595           0                   0.325913   \n",
       "1       186              0.440650           0                   0.047409   \n",
       "2       226              0.381832           0                   0.286719   \n",
       "3        76              0.262339           0                   0.627847   \n",
       "4       140              0.193358           1                   0.295933   \n",
       "\n",
       "   Fraud_Label  \n",
       "0            0  \n",
       "1            1  \n",
       "2            1  \n",
       "3            1  \n",
       "4            1  \n",
       "\n",
       "[5 rows x 27 columns]"
      ]
     },
     "execution_count": 4,
     "metadata": {},
     "output_type": "execute_result"
    }
   ],
   "source": [
    "df_distance.drop(['Unnamed: 0', 'Risk_Score', 'Failed_Transaction_Count_7d'], axis = 1, inplace = True)\n",
    "df_distance.head()"
   ]
  },
  {
   "cell_type": "code",
   "execution_count": 5,
   "id": "8f15cc31",
   "metadata": {},
   "outputs": [],
   "source": [
    "X_distance = df_distance.drop('Fraud_Label', axis = 1)\n",
    "y_distance = df_distance['Fraud_Label']"
   ]
  },
  {
   "cell_type": "markdown",
   "id": "679f6429",
   "metadata": {},
   "source": [
    "### loading the data (trees)"
   ]
  },
  {
   "cell_type": "code",
   "execution_count": 6,
   "id": "f45c830b",
   "metadata": {},
   "outputs": [
    {
     "data": {
      "text/html": [
       "<div>\n",
       "<style scoped>\n",
       "    .dataframe tbody tr th:only-of-type {\n",
       "        vertical-align: middle;\n",
       "    }\n",
       "\n",
       "    .dataframe tbody tr th {\n",
       "        vertical-align: top;\n",
       "    }\n",
       "\n",
       "    .dataframe thead th {\n",
       "        text-align: right;\n",
       "    }\n",
       "</style>\n",
       "<table border=\"1\" class=\"dataframe\">\n",
       "  <thead>\n",
       "    <tr style=\"text-align: right;\">\n",
       "      <th></th>\n",
       "      <th>Unnamed: 0</th>\n",
       "      <th>transaction_type_ATM Withdrawal</th>\n",
       "      <th>transaction_type_Online</th>\n",
       "      <th>transaction_type_POS</th>\n",
       "      <th>device_type_Laptop</th>\n",
       "      <th>device_type_Mobile</th>\n",
       "      <th>location_Mumbai</th>\n",
       "      <th>location_New York</th>\n",
       "      <th>location_Sydney</th>\n",
       "      <th>location_Tokyo</th>\n",
       "      <th>...</th>\n",
       "      <th>Account_Balance</th>\n",
       "      <th>Daily_Transaction_Count</th>\n",
       "      <th>Avg_Transaction_Amount_7d</th>\n",
       "      <th>Failed_Transaction_Count_7d</th>\n",
       "      <th>Card_Age</th>\n",
       "      <th>Transaction_Distance</th>\n",
       "      <th>Risk_Score</th>\n",
       "      <th>Is_Weekend</th>\n",
       "      <th>Transaction_Amount_boxcox</th>\n",
       "      <th>Fraud_Label</th>\n",
       "    </tr>\n",
       "  </thead>\n",
       "  <tbody>\n",
       "    <tr>\n",
       "      <th>0</th>\n",
       "      <td>0</td>\n",
       "      <td>0</td>\n",
       "      <td>0</td>\n",
       "      <td>1</td>\n",
       "      <td>1</td>\n",
       "      <td>0</td>\n",
       "      <td>0</td>\n",
       "      <td>0</td>\n",
       "      <td>1</td>\n",
       "      <td>0</td>\n",
       "      <td>...</td>\n",
       "      <td>93213.17</td>\n",
       "      <td>7</td>\n",
       "      <td>437.63</td>\n",
       "      <td>3</td>\n",
       "      <td>65</td>\n",
       "      <td>883.17</td>\n",
       "      <td>0.8494</td>\n",
       "      <td>0</td>\n",
       "      <td>5.917374</td>\n",
       "      <td>0</td>\n",
       "    </tr>\n",
       "    <tr>\n",
       "      <th>1</th>\n",
       "      <td>1</td>\n",
       "      <td>0</td>\n",
       "      <td>0</td>\n",
       "      <td>0</td>\n",
       "      <td>0</td>\n",
       "      <td>1</td>\n",
       "      <td>0</td>\n",
       "      <td>1</td>\n",
       "      <td>0</td>\n",
       "      <td>0</td>\n",
       "      <td>...</td>\n",
       "      <td>75725.25</td>\n",
       "      <td>13</td>\n",
       "      <td>478.76</td>\n",
       "      <td>4</td>\n",
       "      <td>186</td>\n",
       "      <td>2203.36</td>\n",
       "      <td>0.0959</td>\n",
       "      <td>0</td>\n",
       "      <td>0.860767</td>\n",
       "      <td>1</td>\n",
       "    </tr>\n",
       "    <tr>\n",
       "      <th>2</th>\n",
       "      <td>2</td>\n",
       "      <td>0</td>\n",
       "      <td>1</td>\n",
       "      <td>0</td>\n",
       "      <td>0</td>\n",
       "      <td>0</td>\n",
       "      <td>1</td>\n",
       "      <td>0</td>\n",
       "      <td>0</td>\n",
       "      <td>0</td>\n",
       "      <td>...</td>\n",
       "      <td>1588.96</td>\n",
       "      <td>14</td>\n",
       "      <td>50.01</td>\n",
       "      <td>4</td>\n",
       "      <td>226</td>\n",
       "      <td>1909.29</td>\n",
       "      <td>0.8400</td>\n",
       "      <td>0</td>\n",
       "      <td>5.205741</td>\n",
       "      <td>1</td>\n",
       "    </tr>\n",
       "    <tr>\n",
       "      <th>3</th>\n",
       "      <td>3</td>\n",
       "      <td>1</td>\n",
       "      <td>0</td>\n",
       "      <td>0</td>\n",
       "      <td>0</td>\n",
       "      <td>0</td>\n",
       "      <td>0</td>\n",
       "      <td>1</td>\n",
       "      <td>0</td>\n",
       "      <td>0</td>\n",
       "      <td>...</td>\n",
       "      <td>76807.20</td>\n",
       "      <td>8</td>\n",
       "      <td>182.48</td>\n",
       "      <td>4</td>\n",
       "      <td>76</td>\n",
       "      <td>1311.86</td>\n",
       "      <td>0.7935</td>\n",
       "      <td>0</td>\n",
       "      <td>11.399354</td>\n",
       "      <td>1</td>\n",
       "    </tr>\n",
       "    <tr>\n",
       "      <th>4</th>\n",
       "      <td>4</td>\n",
       "      <td>0</td>\n",
       "      <td>0</td>\n",
       "      <td>1</td>\n",
       "      <td>0</td>\n",
       "      <td>1</td>\n",
       "      <td>1</td>\n",
       "      <td>0</td>\n",
       "      <td>0</td>\n",
       "      <td>0</td>\n",
       "      <td>...</td>\n",
       "      <td>92354.66</td>\n",
       "      <td>14</td>\n",
       "      <td>328.69</td>\n",
       "      <td>4</td>\n",
       "      <td>140</td>\n",
       "      <td>966.98</td>\n",
       "      <td>0.3819</td>\n",
       "      <td>1</td>\n",
       "      <td>5.373048</td>\n",
       "      <td>1</td>\n",
       "    </tr>\n",
       "  </tbody>\n",
       "</table>\n",
       "<p>5 rows × 30 columns</p>\n",
       "</div>"
      ],
      "text/plain": [
       "   Unnamed: 0  transaction_type_ATM Withdrawal  transaction_type_Online  \\\n",
       "0           0                                0                        0   \n",
       "1           1                                0                        0   \n",
       "2           2                                0                        1   \n",
       "3           3                                1                        0   \n",
       "4           4                                0                        0   \n",
       "\n",
       "   transaction_type_POS  device_type_Laptop  device_type_Mobile  \\\n",
       "0                     1                   1                   0   \n",
       "1                     0                   0                   1   \n",
       "2                     0                   0                   0   \n",
       "3                     0                   0                   0   \n",
       "4                     1                   0                   1   \n",
       "\n",
       "   location_Mumbai  location_New York  location_Sydney  location_Tokyo  ...  \\\n",
       "0                0                  0                1               0  ...   \n",
       "1                0                  1                0               0  ...   \n",
       "2                1                  0                0               0  ...   \n",
       "3                0                  1                0               0  ...   \n",
       "4                1                  0                0               0  ...   \n",
       "\n",
       "   Account_Balance  Daily_Transaction_Count  Avg_Transaction_Amount_7d  \\\n",
       "0         93213.17                        7                     437.63   \n",
       "1         75725.25                       13                     478.76   \n",
       "2          1588.96                       14                      50.01   \n",
       "3         76807.20                        8                     182.48   \n",
       "4         92354.66                       14                     328.69   \n",
       "\n",
       "   Failed_Transaction_Count_7d  Card_Age  Transaction_Distance  Risk_Score  \\\n",
       "0                            3        65                883.17      0.8494   \n",
       "1                            4       186               2203.36      0.0959   \n",
       "2                            4       226               1909.29      0.8400   \n",
       "3                            4        76               1311.86      0.7935   \n",
       "4                            4       140                966.98      0.3819   \n",
       "\n",
       "   Is_Weekend  Transaction_Amount_boxcox  Fraud_Label  \n",
       "0           0                   5.917374            0  \n",
       "1           0                   0.860767            1  \n",
       "2           0                   5.205741            1  \n",
       "3           0                  11.399354            1  \n",
       "4           1                   5.373048            1  \n",
       "\n",
       "[5 rows x 30 columns]"
      ]
     },
     "execution_count": 6,
     "metadata": {},
     "output_type": "execute_result"
    }
   ],
   "source": [
    "df_trees = pd.read_csv('../data/trees_based.csv')\n",
    "df_trees.head()"
   ]
  },
  {
   "cell_type": "code",
   "execution_count": 7,
   "id": "fb895f4b",
   "metadata": {},
   "outputs": [
    {
     "name": "stdout",
     "output_type": "stream",
     "text": [
      "Fraud_Label                        1.000000\n",
      "Failed_Transaction_Count_7d        0.509871\n",
      "Risk_Score                         0.385810\n",
      "merchant_Restaurants               0.005285\n",
      "auth_method_OTP                    0.004696\n",
      "card_type_Discover                 0.004424\n",
      "transaction_type_ATM Withdrawal    0.004392\n",
      "location_New York                  0.003750\n",
      "location_Tokyo                     0.003693\n",
      "card_type_Amex                     0.003001\n",
      "merchant_Travel                    0.001796\n",
      "Avg_Transaction_Amount_7d          0.000703\n",
      "Transaction_Amount_boxcox          0.000687\n",
      "Is_Weekend                         0.000064\n",
      "location_Sydney                    0.000056\n",
      "transaction_type_Online           -0.000053\n",
      "Transaction_Distance              -0.000116\n",
      "merchant_Groceries                -0.000268\n",
      "auth_method_Biometric             -0.000789\n",
      "merchant_Electronics              -0.002207\n",
      "device_type_Laptop                -0.002742\n",
      "Card_Age                          -0.003120\n",
      "Account_Balance                   -0.003153\n",
      "Unnamed: 0                        -0.003265\n",
      "card_type_Visa                    -0.003360\n",
      "transaction_type_POS              -0.003704\n",
      "device_type_Mobile                -0.003826\n",
      "location_Mumbai                   -0.005941\n",
      "auth_method_PIN                   -0.006551\n",
      "Daily_Transaction_Count           -0.007065\n",
      "Name: Fraud_Label, dtype: float64\n"
     ]
    }
   ],
   "source": [
    "corr = df_trees.corr()['Fraud_Label'].sort_values(ascending = False)\n",
    "print(corr)"
   ]
  },
  {
   "cell_type": "code",
   "execution_count": 8,
   "id": "a651b275",
   "metadata": {},
   "outputs": [
    {
     "data": {
      "text/html": [
       "<div>\n",
       "<style scoped>\n",
       "    .dataframe tbody tr th:only-of-type {\n",
       "        vertical-align: middle;\n",
       "    }\n",
       "\n",
       "    .dataframe tbody tr th {\n",
       "        vertical-align: top;\n",
       "    }\n",
       "\n",
       "    .dataframe thead th {\n",
       "        text-align: right;\n",
       "    }\n",
       "</style>\n",
       "<table border=\"1\" class=\"dataframe\">\n",
       "  <thead>\n",
       "    <tr style=\"text-align: right;\">\n",
       "      <th></th>\n",
       "      <th>transaction_type_ATM Withdrawal</th>\n",
       "      <th>transaction_type_Online</th>\n",
       "      <th>transaction_type_POS</th>\n",
       "      <th>device_type_Laptop</th>\n",
       "      <th>device_type_Mobile</th>\n",
       "      <th>location_Mumbai</th>\n",
       "      <th>location_New York</th>\n",
       "      <th>location_Sydney</th>\n",
       "      <th>location_Tokyo</th>\n",
       "      <th>merchant_Electronics</th>\n",
       "      <th>...</th>\n",
       "      <th>card_type_Discover</th>\n",
       "      <th>card_type_Visa</th>\n",
       "      <th>Account_Balance</th>\n",
       "      <th>Daily_Transaction_Count</th>\n",
       "      <th>Avg_Transaction_Amount_7d</th>\n",
       "      <th>Card_Age</th>\n",
       "      <th>Transaction_Distance</th>\n",
       "      <th>Is_Weekend</th>\n",
       "      <th>Transaction_Amount_boxcox</th>\n",
       "      <th>Fraud_Label</th>\n",
       "    </tr>\n",
       "  </thead>\n",
       "  <tbody>\n",
       "    <tr>\n",
       "      <th>0</th>\n",
       "      <td>0</td>\n",
       "      <td>0</td>\n",
       "      <td>1</td>\n",
       "      <td>1</td>\n",
       "      <td>0</td>\n",
       "      <td>0</td>\n",
       "      <td>0</td>\n",
       "      <td>1</td>\n",
       "      <td>0</td>\n",
       "      <td>0</td>\n",
       "      <td>...</td>\n",
       "      <td>0</td>\n",
       "      <td>0</td>\n",
       "      <td>93213.17</td>\n",
       "      <td>7</td>\n",
       "      <td>437.63</td>\n",
       "      <td>65</td>\n",
       "      <td>883.17</td>\n",
       "      <td>0</td>\n",
       "      <td>5.917374</td>\n",
       "      <td>0</td>\n",
       "    </tr>\n",
       "    <tr>\n",
       "      <th>1</th>\n",
       "      <td>0</td>\n",
       "      <td>0</td>\n",
       "      <td>0</td>\n",
       "      <td>0</td>\n",
       "      <td>1</td>\n",
       "      <td>0</td>\n",
       "      <td>1</td>\n",
       "      <td>0</td>\n",
       "      <td>0</td>\n",
       "      <td>0</td>\n",
       "      <td>...</td>\n",
       "      <td>0</td>\n",
       "      <td>0</td>\n",
       "      <td>75725.25</td>\n",
       "      <td>13</td>\n",
       "      <td>478.76</td>\n",
       "      <td>186</td>\n",
       "      <td>2203.36</td>\n",
       "      <td>0</td>\n",
       "      <td>0.860767</td>\n",
       "      <td>1</td>\n",
       "    </tr>\n",
       "    <tr>\n",
       "      <th>2</th>\n",
       "      <td>0</td>\n",
       "      <td>1</td>\n",
       "      <td>0</td>\n",
       "      <td>0</td>\n",
       "      <td>0</td>\n",
       "      <td>1</td>\n",
       "      <td>0</td>\n",
       "      <td>0</td>\n",
       "      <td>0</td>\n",
       "      <td>0</td>\n",
       "      <td>...</td>\n",
       "      <td>0</td>\n",
       "      <td>1</td>\n",
       "      <td>1588.96</td>\n",
       "      <td>14</td>\n",
       "      <td>50.01</td>\n",
       "      <td>226</td>\n",
       "      <td>1909.29</td>\n",
       "      <td>0</td>\n",
       "      <td>5.205741</td>\n",
       "      <td>1</td>\n",
       "    </tr>\n",
       "    <tr>\n",
       "      <th>3</th>\n",
       "      <td>1</td>\n",
       "      <td>0</td>\n",
       "      <td>0</td>\n",
       "      <td>0</td>\n",
       "      <td>0</td>\n",
       "      <td>0</td>\n",
       "      <td>1</td>\n",
       "      <td>0</td>\n",
       "      <td>0</td>\n",
       "      <td>0</td>\n",
       "      <td>...</td>\n",
       "      <td>0</td>\n",
       "      <td>1</td>\n",
       "      <td>76807.20</td>\n",
       "      <td>8</td>\n",
       "      <td>182.48</td>\n",
       "      <td>76</td>\n",
       "      <td>1311.86</td>\n",
       "      <td>0</td>\n",
       "      <td>11.399354</td>\n",
       "      <td>1</td>\n",
       "    </tr>\n",
       "    <tr>\n",
       "      <th>4</th>\n",
       "      <td>0</td>\n",
       "      <td>0</td>\n",
       "      <td>1</td>\n",
       "      <td>0</td>\n",
       "      <td>1</td>\n",
       "      <td>1</td>\n",
       "      <td>0</td>\n",
       "      <td>0</td>\n",
       "      <td>0</td>\n",
       "      <td>1</td>\n",
       "      <td>...</td>\n",
       "      <td>0</td>\n",
       "      <td>0</td>\n",
       "      <td>92354.66</td>\n",
       "      <td>14</td>\n",
       "      <td>328.69</td>\n",
       "      <td>140</td>\n",
       "      <td>966.98</td>\n",
       "      <td>1</td>\n",
       "      <td>5.373048</td>\n",
       "      <td>1</td>\n",
       "    </tr>\n",
       "  </tbody>\n",
       "</table>\n",
       "<p>5 rows × 27 columns</p>\n",
       "</div>"
      ],
      "text/plain": [
       "   transaction_type_ATM Withdrawal  transaction_type_Online  \\\n",
       "0                                0                        0   \n",
       "1                                0                        0   \n",
       "2                                0                        1   \n",
       "3                                1                        0   \n",
       "4                                0                        0   \n",
       "\n",
       "   transaction_type_POS  device_type_Laptop  device_type_Mobile  \\\n",
       "0                     1                   1                   0   \n",
       "1                     0                   0                   1   \n",
       "2                     0                   0                   0   \n",
       "3                     0                   0                   0   \n",
       "4                     1                   0                   1   \n",
       "\n",
       "   location_Mumbai  location_New York  location_Sydney  location_Tokyo  \\\n",
       "0                0                  0                1               0   \n",
       "1                0                  1                0               0   \n",
       "2                1                  0                0               0   \n",
       "3                0                  1                0               0   \n",
       "4                1                  0                0               0   \n",
       "\n",
       "   merchant_Electronics  ...  card_type_Discover  card_type_Visa  \\\n",
       "0                     0  ...                   0               0   \n",
       "1                     0  ...                   0               0   \n",
       "2                     0  ...                   0               1   \n",
       "3                     0  ...                   0               1   \n",
       "4                     1  ...                   0               0   \n",
       "\n",
       "   Account_Balance  Daily_Transaction_Count  Avg_Transaction_Amount_7d  \\\n",
       "0         93213.17                        7                     437.63   \n",
       "1         75725.25                       13                     478.76   \n",
       "2          1588.96                       14                      50.01   \n",
       "3         76807.20                        8                     182.48   \n",
       "4         92354.66                       14                     328.69   \n",
       "\n",
       "   Card_Age  Transaction_Distance  Is_Weekend  Transaction_Amount_boxcox  \\\n",
       "0        65                883.17           0                   5.917374   \n",
       "1       186               2203.36           0                   0.860767   \n",
       "2       226               1909.29           0                   5.205741   \n",
       "3        76               1311.86           0                  11.399354   \n",
       "4       140                966.98           1                   5.373048   \n",
       "\n",
       "   Fraud_Label  \n",
       "0            0  \n",
       "1            1  \n",
       "2            1  \n",
       "3            1  \n",
       "4            1  \n",
       "\n",
       "[5 rows x 27 columns]"
      ]
     },
     "execution_count": 8,
     "metadata": {},
     "output_type": "execute_result"
    }
   ],
   "source": [
    "df_trees.drop(['Unnamed: 0', 'Failed_Transaction_Count_7d', 'Risk_Score'], axis = 1, inplace = True)\n",
    "df_trees.head()"
   ]
  },
  {
   "cell_type": "code",
   "execution_count": 9,
   "id": "0aab6069",
   "metadata": {},
   "outputs": [],
   "source": [
    "X_trees = df_trees.drop('Fraud_Label', axis = 1)\n",
    "y_trees = df_trees['Fraud_Label']"
   ]
  },
  {
   "cell_type": "markdown",
   "id": "bf9d4ae3",
   "metadata": {},
   "source": [
    "### train, test split"
   ]
  },
  {
   "cell_type": "code",
   "execution_count": 10,
   "id": "14c32bb0",
   "metadata": {},
   "outputs": [],
   "source": [
    "from sklearn.model_selection import train_test_split\n",
    "X_train_distance, X_test_distance, y_train_distance, y_test_distance = train_test_split(X_distance, y_distance, random_state = 42, test_size = 0.25)"
   ]
  },
  {
   "cell_type": "code",
   "execution_count": 11,
   "id": "37e873f5",
   "metadata": {},
   "outputs": [
    {
     "name": "stdout",
     "output_type": "stream",
     "text": [
      "(37500, 26) : (12500, 26) :: (37500,) : (12500,)\n"
     ]
    }
   ],
   "source": [
    "print(f\"{X_train_distance.shape} : {X_test_distance.shape} :: {y_train_distance.shape} : {y_test_distance.shape}\")"
   ]
  },
  {
   "cell_type": "code",
   "execution_count": 12,
   "id": "37fb70a7",
   "metadata": {},
   "outputs": [],
   "source": [
    "X_train_trees, X_test_trees, y_train_trees, y_test_trees = train_test_split(X_trees, y_trees, test_size = 0.25, random_state = 42)"
   ]
  },
  {
   "cell_type": "code",
   "execution_count": 13,
   "id": "5ee2bddf",
   "metadata": {},
   "outputs": [
    {
     "name": "stdout",
     "output_type": "stream",
     "text": [
      "(37500, 26) : (12500, 26) :: (37500,) : (12500,)\n"
     ]
    }
   ],
   "source": [
    "print(f\"{X_train_trees.shape} : {X_test_trees.shape} :: {y_train_trees.shape} : {y_test_trees.shape}\")"
   ]
  },
  {
   "cell_type": "markdown",
   "id": "aa86571f",
   "metadata": {},
   "source": [
    "### writing the functions for the testing"
   ]
  },
  {
   "cell_type": "code",
   "execution_count": 17,
   "id": "c1cd2c35",
   "metadata": {},
   "outputs": [],
   "source": [
    "from sklearn.metrics import accuracy_score, confusion_matrix, classification_report, roc_curve, roc_auc_score, auc"
   ]
  },
  {
   "cell_type": "code",
   "execution_count": 15,
   "id": "ce261a93",
   "metadata": {},
   "outputs": [],
   "source": [
    "def metrices(y_test, y_pred) : \n",
    "    print(f\"accuracy_score : {accuracy_score(y_test, y_pred)}\")\n",
    "    print(\"Confusion matrix : \")\n",
    "    print(confusion_matrix(y_test, y_pred))\n",
    "    print(classification_report(y_test, y_pred))"
   ]
  },
  {
   "cell_type": "code",
   "execution_count": 18,
   "id": "09b83eef",
   "metadata": {},
   "outputs": [],
   "source": [
    "def plot_graphs(y_test, y_pred, y_prob = None) : \n",
    "    plt.figure(figsize = (10, 6))\n",
    "    plt.subplot(1, 2, 1)\n",
    "    cm = confusion_matrix(y_test, y_pred)\n",
    "    sns.heatmap(cm, annot=True, fmt='d', cmap='Blues', cbar=False)\n",
    "    plt.title('Confusion Matrix')\n",
    "    plt.xlabel('Predicted Labels')\n",
    "    plt.ylabel('True Labels')\n",
    "    \n",
    "    # --- 2️⃣ ROC Curve (only for binary classification) ---\n",
    "    if y_prob is not None and len(set(y_test)) == 2:\n",
    "        plt.subplot(1, 2, 2)\n",
    "        fpr, tpr, _ = roc_curve(y_test, y_prob)\n",
    "        roc_auc = auc(fpr, tpr)\n",
    "        plt.plot(fpr, tpr, color='blue', lw=2, label=f'ROC curve (AUC = {roc_auc:.2f})')\n",
    "        plt.plot([0, 1], [0, 1], color='red', linestyle='--')\n",
    "        plt.title('ROC Curve')\n",
    "        plt.xlabel('False Positive Rate')\n",
    "        plt.ylabel('True Positive Rate')\n",
    "        plt.legend(loc=\"lower right\")\n",
    "    else:\n",
    "        plt.subplot(1, 2, 2)\n",
    "        sns.histplot(y_pred, color='purple', bins=len(set(y_pred)))\n",
    "        plt.title('Predicted Class Distribution')\n",
    "        plt.xlabel('Predicted Class')\n",
    "        plt.ylabel('Count')\n",
    "\n",
    "    plt.tight_layout()\n",
    "    plt.show()    "
   ]
  },
  {
   "cell_type": "code",
   "execution_count": 19,
   "id": "ced3e7e3",
   "metadata": {},
   "outputs": [],
   "source": [
    "def pred_and_plot(X_train, X_test, y_train, y_test, model) : \n",
    "    model.fit(X_train, y_train)\n",
    "    y_pred = model.predict(X_test)\n",
    "    metrices(y_test, y_pred)\n",
    "    plot_graphs(y_test, y_pred)"
   ]
  },
  {
   "cell_type": "markdown",
   "id": "50b37557",
   "metadata": {},
   "source": [
    "### Algorithms"
   ]
  },
  {
   "cell_type": "markdown",
   "id": "7099f93a",
   "metadata": {},
   "source": [
    "### Distance based"
   ]
  },
  {
   "cell_type": "markdown",
   "id": "595eb42c",
   "metadata": {},
   "source": [
    "### 1. Logistic Regression"
   ]
  },
  {
   "cell_type": "code",
   "execution_count": 22,
   "id": "42d0d426",
   "metadata": {},
   "outputs": [
    {
     "name": "stdout",
     "output_type": "stream",
     "text": [
      "accuracy_score : 0.67584\n",
      "Confusion matrix : \n",
      "[[8448    0]\n",
      " [4052    0]]\n",
      "              precision    recall  f1-score   support\n",
      "\n",
      "           0       0.68      1.00      0.81      8448\n",
      "           1       0.00      0.00      0.00      4052\n",
      "\n",
      "    accuracy                           0.68     12500\n",
      "   macro avg       0.34      0.50      0.40     12500\n",
      "weighted avg       0.46      0.68      0.55     12500\n",
      "\n"
     ]
    },
    {
     "name": "stderr",
     "output_type": "stream",
     "text": [
      "c:\\Users\\lenovo\\anaconda3\\Lib\\site-packages\\sklearn\\metrics\\_classification.py:1531: UndefinedMetricWarning: Precision is ill-defined and being set to 0.0 in labels with no predicted samples. Use `zero_division` parameter to control this behavior.\n",
      "  _warn_prf(average, modifier, f\"{metric.capitalize()} is\", len(result))\n",
      "c:\\Users\\lenovo\\anaconda3\\Lib\\site-packages\\sklearn\\metrics\\_classification.py:1531: UndefinedMetricWarning: Precision is ill-defined and being set to 0.0 in labels with no predicted samples. Use `zero_division` parameter to control this behavior.\n",
      "  _warn_prf(average, modifier, f\"{metric.capitalize()} is\", len(result))\n",
      "c:\\Users\\lenovo\\anaconda3\\Lib\\site-packages\\sklearn\\metrics\\_classification.py:1531: UndefinedMetricWarning: Precision is ill-defined and being set to 0.0 in labels with no predicted samples. Use `zero_division` parameter to control this behavior.\n",
      "  _warn_prf(average, modifier, f\"{metric.capitalize()} is\", len(result))\n"
     ]
    },
    {
     "data": {
      "image/png": "[encoded data removed]",
      "text/plain": [
       "<Figure size 1000x600 with 2 Axes>"
      ]
     },
     "metadata": {},
     "output_type": "display_data"
    }
   ],
   "source": [
    "from sklearn.linear_model import LogisticRegression\n",
    "lr = LogisticRegression(max_iter = 1000)\n",
    "pred_and_plot(X_train_distance, X_test_distance, y_train_distance, y_test_distance, lr)"
   ]
  },
  {
   "cell_type": "markdown",
   "id": "0c6bfc7c",
   "metadata": {},
   "source": [
    "### 2. SVC"
   ]
  },
  {
   "cell_type": "code",
   "execution_count": 23,
   "id": "91aa0820",
   "metadata": {},
   "outputs": [
    {
     "name": "stdout",
     "output_type": "stream",
     "text": [
      "accuracy_score : 0.67584\n",
      "Confusion matrix : \n",
      "[[8448    0]\n",
      " [4052    0]]\n",
      "              precision    recall  f1-score   support\n",
      "\n",
      "           0       0.68      1.00      0.81      8448\n",
      "           1       0.00      0.00      0.00      4052\n",
      "\n",
      "    accuracy                           0.68     12500\n",
      "   macro avg       0.34      0.50      0.40     12500\n",
      "weighted avg       0.46      0.68      0.55     12500\n",
      "\n"
     ]
    },
    {
     "name": "stderr",
     "output_type": "stream",
     "text": [
      "c:\\Users\\lenovo\\anaconda3\\Lib\\site-packages\\sklearn\\metrics\\_classification.py:1531: UndefinedMetricWarning: Precision is ill-defined and being set to 0.0 in labels with no predicted samples. Use `zero_division` parameter to control this behavior.\n",
      "  _warn_prf(average, modifier, f\"{metric.capitalize()} is\", len(result))\n",
      "c:\\Users\\lenovo\\anaconda3\\Lib\\site-packages\\sklearn\\metrics\\_classification.py:1531: UndefinedMetricWarning: Precision is ill-defined and being set to 0.0 in labels with no predicted samples. Use `zero_division` parameter to control this behavior.\n",
      "  _warn_prf(average, modifier, f\"{metric.capitalize()} is\", len(result))\n",
      "c:\\Users\\lenovo\\anaconda3\\Lib\\site-packages\\sklearn\\metrics\\_classification.py:1531: UndefinedMetricWarning: Precision is ill-defined and being set to 0.0 in labels with no predicted samples. Use `zero_division` parameter to control this behavior.\n",
      "  _warn_prf(average, modifier, f\"{metric.capitalize()} is\", len(result))\n"
     ]
    },
    {
     "data": {
      "image/png": "[encoded data removed]",
      "text/plain": [
       "<Figure size 1000x600 with 2 Axes>"
      ]
     },
     "metadata": {},
     "output_type": "display_data"
    }
   ],
   "source": [
    "from sklearn.svm import SVC\n",
    "svc = SVC()\n",
    "pred_and_plot(X_train_distance, X_test_distance, y_train_distance, y_test_distance, model = svc)"
   ]
  },
  {
   "cell_type": "markdown",
   "id": "da2087c9",
   "metadata": {},
   "source": [
    "### 3. KNN"
   ]
  },
  {
   "cell_type": "code",
   "execution_count": 26,
   "id": "70459ad2",
   "metadata": {},
   "outputs": [
    {
     "name": "stdout",
     "output_type": "stream",
     "text": [
      "accuracy_score : 0.61416\n",
      "Confusion matrix : \n",
      "[[6875 1573]\n",
      " [3250  802]]\n",
      "              precision    recall  f1-score   support\n",
      "\n",
      "           0       0.68      0.81      0.74      8448\n",
      "           1       0.34      0.20      0.25      4052\n",
      "\n",
      "    accuracy                           0.61     12500\n",
      "   macro avg       0.51      0.51      0.49     12500\n",
      "weighted avg       0.57      0.61      0.58     12500\n",
      "\n"
     ]
    },
    {
     "data": {
      "image/png": "[encoded data removed]",
      "text/plain": [
       "<Figure size 1000x600 with 2 Axes>"
      ]
     },
     "metadata": {},
     "output_type": "display_data"
    }
   ],
   "source": [
    "from sklearn.neighbors import KNeighborsClassifier\n",
    "knn = KNeighborsClassifier()\n",
    "pred_and_plot(X_train_distance, X_test_distance, y_train_distance, y_test_distance, model = knn)"
   ]
  },
  {
   "cell_type": "markdown",
   "id": "e56038c0",
   "metadata": {},
   "source": [
    "### Probablity based algo (Gausian NB)"
   ]
  },
  {
   "cell_type": "code",
   "execution_count": 27,
   "id": "35c04b10",
   "metadata": {},
   "outputs": [
    {
     "name": "stdout",
     "output_type": "stream",
     "text": [
      "accuracy_score : 0.67584\n",
      "Confusion matrix : \n",
      "[[8448    0]\n",
      " [4052    0]]\n",
      "              precision    recall  f1-score   support\n",
      "\n",
      "           0       0.68      1.00      0.81      8448\n",
      "           1       0.00      0.00      0.00      4052\n",
      "\n",
      "    accuracy                           0.68     12500\n",
      "   macro avg       0.34      0.50      0.40     12500\n",
      "weighted avg       0.46      0.68      0.55     12500\n",
      "\n"
     ]
    },
    {
     "name": "stderr",
     "output_type": "stream",
     "text": [
      "c:\\Users\\lenovo\\anaconda3\\Lib\\site-packages\\sklearn\\metrics\\_classification.py:1531: UndefinedMetricWarning: Precision is ill-defined and being set to 0.0 in labels with no predicted samples. Use `zero_division` parameter to control this behavior.\n",
      "  _warn_prf(average, modifier, f\"{metric.capitalize()} is\", len(result))\n",
      "c:\\Users\\lenovo\\anaconda3\\Lib\\site-packages\\sklearn\\metrics\\_classification.py:1531: UndefinedMetricWarning: Precision is ill-defined and being set to 0.0 in labels with no predicted samples. Use `zero_division` parameter to control this behavior.\n",
      "  _warn_prf(average, modifier, f\"{metric.capitalize()} is\", len(result))\n",
      "c:\\Users\\lenovo\\anaconda3\\Lib\\site-packages\\sklearn\\metrics\\_classification.py:1531: UndefinedMetricWarning: Precision is ill-defined and being set to 0.0 in labels with no predicted samples. Use `zero_division` parameter to control this behavior.\n",
      "  _warn_prf(average, modifier, f\"{metric.capitalize()} is\", len(result))\n"
     ]
    },
    {
     "data": {
      "image/png": "[encoded data removed]",
      "text/plain": [
       "<Figure size 1000x600 with 2 Axes>"
      ]
     },
     "metadata": {},
     "output_type": "display_data"
    }
   ],
   "source": [
    "from sklearn.naive_bayes import GaussianNB\n",
    "gnb = GaussianNB()\n",
    "pred_and_plot(X_train_trees, X_test_trees, y_train_trees, y_test_trees, model = gnb)"
   ]
  },
  {
   "cell_type": "markdown",
   "id": "da1b7cc2",
   "metadata": {},
   "source": [
    "### Tree based algorithms"
   ]
  },
  {
   "cell_type": "markdown",
   "id": "318fcfee",
   "metadata": {},
   "source": [
    "### 1. Decision Tree"
   ]
  },
  {
   "cell_type": "code",
   "execution_count": 28,
   "id": "2b0770cf",
   "metadata": {},
   "outputs": [
    {
     "name": "stdout",
     "output_type": "stream",
     "text": [
      "accuracy_score : 0.55432\n",
      "Confusion matrix : \n",
      "[[5582 2866]\n",
      " [2705 1347]]\n",
      "              precision    recall  f1-score   support\n",
      "\n",
      "           0       0.67      0.66      0.67      8448\n",
      "           1       0.32      0.33      0.33      4052\n",
      "\n",
      "    accuracy                           0.55     12500\n",
      "   macro avg       0.50      0.50      0.50     12500\n",
      "weighted avg       0.56      0.55      0.56     12500\n",
      "\n"
     ]
    },
    {
     "data": {
      "image/png": "[encoded data removed]",
      "text/plain": [
       "<Figure size 1000x600 with 2 Axes>"
      ]
     },
     "metadata": {},
     "output_type": "display_data"
    }
   ],
   "source": [
    "from sklearn.tree import DecisionTreeClassifier\n",
    "dtc = DecisionTreeClassifier()\n",
    "pred_and_plot(X_train_trees, X_test_trees, y_train_trees, y_test_trees, model = dtc)"
   ]
  },
  {
   "cell_type": "markdown",
   "id": "15499eb2",
   "metadata": {},
   "source": [
    "### 2. Random forest classifier"
   ]
  },
  {
   "cell_type": "code",
   "execution_count": 29,
   "id": "1021b0a3",
   "metadata": {},
   "outputs": [
    {
     "name": "stdout",
     "output_type": "stream",
     "text": [
      "accuracy_score : 0.67224\n",
      "Confusion matrix : \n",
      "[[8386   62]\n",
      " [4035   17]]\n",
      "              precision    recall  f1-score   support\n",
      "\n",
      "           0       0.68      0.99      0.80      8448\n",
      "           1       0.22      0.00      0.01      4052\n",
      "\n",
      "    accuracy                           0.67     12500\n",
      "   macro avg       0.45      0.50      0.41     12500\n",
      "weighted avg       0.53      0.67      0.55     12500\n",
      "\n"
     ]
    },
    {
     "data": {
      "image/png": "[encoded data removed]",
      "text/plain": [
       "<Figure size 1000x600 with 2 Axes>"
      ]
     },
     "metadata": {},
     "output_type": "display_data"
    }
   ],
   "source": [
    "from sklearn.ensemble import RandomForestClassifier\n",
    "rfc = RandomForestClassifier()\n",
    "pred_and_plot(X_train_trees, X_test_trees, y_train_trees, y_test_trees, model = rfc)"
   ]
  },
  {
   "cell_type": "markdown",
   "id": "03631ed6",
   "metadata": {},
   "source": [
    "### 3. Adaboost"
   ]
  },
  {
   "cell_type": "code",
   "execution_count": 30,
   "id": "65e567ba",
   "metadata": {},
   "outputs": [
    {
     "name": "stderr",
     "output_type": "stream",
     "text": [
      "c:\\Users\\lenovo\\anaconda3\\Lib\\site-packages\\sklearn\\ensemble\\_weight_boosting.py:527: FutureWarning: The SAMME.R algorithm (the default) is deprecated and will be removed in 1.6. Use the SAMME algorithm to circumvent this warning.\n",
      "  warnings.warn(\n"
     ]
    },
    {
     "name": "stdout",
     "output_type": "stream",
     "text": [
      "accuracy_score : 0.6756\n",
      "Confusion matrix : \n",
      "[[8441    7]\n",
      " [4048    4]]\n",
      "              precision    recall  f1-score   support\n",
      "\n",
      "           0       0.68      1.00      0.81      8448\n",
      "           1       0.36      0.00      0.00      4052\n",
      "\n",
      "    accuracy                           0.68     12500\n",
      "   macro avg       0.52      0.50      0.40     12500\n",
      "weighted avg       0.57      0.68      0.55     12500\n",
      "\n"
     ]
    },
    {
     "data": {
      "image/png": "[encoded data removed]",
      "text/plain": [
       "<Figure size 1000x600 with 2 Axes>"
      ]
     },
     "metadata": {},
     "output_type": "display_data"
    }
   ],
   "source": [
    "from sklearn.ensemble import AdaBoostClassifier\n",
    "abc = AdaBoostClassifier()\n",
    "pred_and_plot(X_train_trees, X_test_trees, y_train_trees, y_test_trees, model = abc)"
   ]
  },
  {
   "cell_type": "markdown",
   "id": "d0f2a24d",
   "metadata": {},
   "source": [
    "### Gradient boost"
   ]
  },
  {
   "cell_type": "code",
   "execution_count": 31,
   "id": "42c72744",
   "metadata": {},
   "outputs": [
    {
     "name": "stdout",
     "output_type": "stream",
     "text": [
      "accuracy_score : 0.67488\n",
      "Confusion matrix : \n",
      "[[8433   15]\n",
      " [4049    3]]\n",
      "              precision    recall  f1-score   support\n",
      "\n",
      "           0       0.68      1.00      0.81      8448\n",
      "           1       0.17      0.00      0.00      4052\n",
      "\n",
      "    accuracy                           0.67     12500\n",
      "   macro avg       0.42      0.50      0.40     12500\n",
      "weighted avg       0.51      0.67      0.55     12500\n",
      "\n"
     ]
    },
    {
     "data": {
      "image/png": "[encoded data removed]",
      "text/plain": [
       "<Figure size 1000x600 with 2 Axes>"
      ]
     },
     "metadata": {},
     "output_type": "display_data"
    }
   ],
   "source": [
    "from sklearn.ensemble import GradientBoostingClassifier\n",
    "gbc = GradientBoostingClassifier()\n",
    "pred_and_plot(X_train_trees, X_test_trees, y_train_trees, y_test_trees, model = gbc)"
   ]
  },
  {
   "cell_type": "markdown",
   "id": "624562d6",
   "metadata": {},
   "source": [
    "### ANN : neural netwrok"
   ]
  },
  {
   "cell_type": "code",
   "execution_count": 32,
   "id": "5e93dfca",
   "metadata": {},
   "outputs": [],
   "source": [
    "import keras\n",
    "from keras.models import Sequential\n",
    "from keras.layers import Dense, Dropout"
   ]
  },
  {
   "cell_type": "code",
   "execution_count": 33,
   "id": "e5df168d",
   "metadata": {},
   "outputs": [],
   "source": [
    "model = Sequential()"
   ]
  },
  {
   "cell_type": "code",
   "execution_count": 35,
   "id": "639c97db",
   "metadata": {},
   "outputs": [],
   "source": [
    "model.add(Dense(64, activation = 'relu', kernel_initializer = 'he_uniform', input_dim = X_train_trees.shape[1]))\n",
    "model.add(Dropout(0.2))\n",
    "model.add(Dense(128, activation = 'relu', kernel_initializer = 'he_normal'))\n",
    "model.add(Dropout(0.2))\n",
    "model.add(Dense(128, activation = 'relu', kernel_initializer = 'he_normal'))\n",
    "model.add(Dropout(0.2))\n",
    "model.add(Dense(64, activation = 'relu'))\n",
    "model.add(Dense(1, activation = 'sigmoid'))\n",
    "\n",
    "model.compile(optimizer = 'adam', loss = 'binary_crossentropy', metrics = ['accuracy'])"
   ]
  },
  {
   "cell_type": "code",
   "execution_count": 36,
   "id": "41ef909c",
   "metadata": {},
   "outputs": [
    {
     "data": {
      "text/html": [
       "<pre style=\"white-space:pre;overflow-x:auto;line-height:normal;font-family:Menlo,'DejaVu Sans Mono',consolas,'Courier New',monospace\"><span style=\"font-weight: bold\">Model: \"sequential\"</span>\n",
       "</pre>\n"
      ],
      "text/plain": [
       "\u001b[1mModel: \"sequential\"\u001b[0m\n"
      ]
     },
     "metadata": {},
     "output_type": "display_data"
    },
    {
     "data": {
      "text/html": [
       "<pre style=\"white-space:pre;overflow-x:auto;line-height:normal;font-family:Menlo,'DejaVu Sans Mono',consolas,'Courier New',monospace\">┏━━━━━━━━━━━━━━━━━━━━━━━━━━━━━━━━━┳━━━━━━━━━━━━━━━━━━━━━━━━┳━━━━━━━━━━━━━━━┓\n",
       "┃<span style=\"font-weight: bold\"> Layer (type)                    </span>┃<span style=\"font-weight: bold\"> Output Shape           </span>┃<span style=\"font-weight: bold\">       Param # </span>┃\n",
       "┡━━━━━━━━━━━━━━━━━━━━━━━━━━━━━━━━━╇━━━━━━━━━━━━━━━━━━━━━━━━╇━━━━━━━━━━━━━━━┩\n",
       "│ dense_1 (<span style=\"color: #0087ff; text-decoration-color: #0087ff\">Dense</span>)                 │ (<span style=\"color: #00d7ff; text-decoration-color: #00d7ff\">None</span>, <span style=\"color: #00af00; text-decoration-color: #00af00\">64</span>)             │         <span style=\"color: #00af00; text-decoration-color: #00af00\">1,728</span> │\n",
       "├─────────────────────────────────┼────────────────────────┼───────────────┤\n",
       "│ dropout (<span style=\"color: #0087ff; text-decoration-color: #0087ff\">Dropout</span>)               │ (<span style=\"color: #00d7ff; text-decoration-color: #00d7ff\">None</span>, <span style=\"color: #00af00; text-decoration-color: #00af00\">64</span>)             │             <span style=\"color: #00af00; text-decoration-color: #00af00\">0</span> │\n",
       "├─────────────────────────────────┼────────────────────────┼───────────────┤\n",
       "│ dense_2 (<span style=\"color: #0087ff; text-decoration-color: #0087ff\">Dense</span>)                 │ (<span style=\"color: #00d7ff; text-decoration-color: #00d7ff\">None</span>, <span style=\"color: #00af00; text-decoration-color: #00af00\">128</span>)            │         <span style=\"color: #00af00; text-decoration-color: #00af00\">8,320</span> │\n",
       "├─────────────────────────────────┼────────────────────────┼───────────────┤\n",
       "│ dropout_1 (<span style=\"color: #0087ff; text-decoration-color: #0087ff\">Dropout</span>)             │ (<span style=\"color: #00d7ff; text-decoration-color: #00d7ff\">None</span>, <span style=\"color: #00af00; text-decoration-color: #00af00\">128</span>)            │             <span style=\"color: #00af00; text-decoration-color: #00af00\">0</span> │\n",
       "├─────────────────────────────────┼────────────────────────┼───────────────┤\n",
       "│ dense_3 (<span style=\"color: #0087ff; text-decoration-color: #0087ff\">Dense</span>)                 │ (<span style=\"color: #00d7ff; text-decoration-color: #00d7ff\">None</span>, <span style=\"color: #00af00; text-decoration-color: #00af00\">128</span>)            │        <span style=\"color: #00af00; text-decoration-color: #00af00\">16,512</span> │\n",
       "├─────────────────────────────────┼────────────────────────┼───────────────┤\n",
       "│ dropout_2 (<span style=\"color: #0087ff; text-decoration-color: #0087ff\">Dropout</span>)             │ (<span style=\"color: #00d7ff; text-decoration-color: #00d7ff\">None</span>, <span style=\"color: #00af00; text-decoration-color: #00af00\">128</span>)            │             <span style=\"color: #00af00; text-decoration-color: #00af00\">0</span> │\n",
       "├─────────────────────────────────┼────────────────────────┼───────────────┤\n",
       "│ dense_4 (<span style=\"color: #0087ff; text-decoration-color: #0087ff\">Dense</span>)                 │ (<span style=\"color: #00d7ff; text-decoration-color: #00d7ff\">None</span>, <span style=\"color: #00af00; text-decoration-color: #00af00\">64</span>)             │         <span style=\"color: #00af00; text-decoration-color: #00af00\">8,256</span> │\n",
       "├─────────────────────────────────┼────────────────────────┼───────────────┤\n",
       "│ dense_5 (<span style=\"color: #0087ff; text-decoration-color: #0087ff\">Dense</span>)                 │ (<span style=\"color: #00d7ff; text-decoration-color: #00d7ff\">None</span>, <span style=\"color: #00af00; text-decoration-color: #00af00\">1</span>)              │            <span style=\"color: #00af00; text-decoration-color: #00af00\">65</span> │\n",
       "└─────────────────────────────────┴────────────────────────┴───────────────┘\n",
       "</pre>\n"
      ],
      "text/plain": [
       "┏━━━━━━━━━━━━━━━━━━━━━━━━━━━━━━━━━┳━━━━━━━━━━━━━━━━━━━━━━━━┳━━━━━━━━━━━━━━━┓\n",
       "┃\u001b[1m \u001b[0m\u001b[1mLayer (type)                   \u001b[0m\u001b[1m \u001b[0m┃\u001b[1m \u001b[0m\u001b[1mOutput Shape          \u001b[0m\u001b[1m \u001b[0m┃\u001b[1m \u001b[0m\u001b[1m      Param #\u001b[0m\u001b[1m \u001b[0m┃\n",
       "┡━━━━━━━━━━━━━━━━━━━━━━━━━━━━━━━━━╇━━━━━━━━━━━━━━━━━━━━━━━━╇━━━━━━━━━━━━━━━┩\n",
       "│ dense_1 (\u001b[38;5;33mDense\u001b[0m)                 │ (\u001b[38;5;45mNone\u001b[0m, \u001b[38;5;34m64\u001b[0m)             │         \u001b[38;5;34m1,728\u001b[0m │\n",
       "├─────────────────────────────────┼────────────────────────┼───────────────┤\n",
       "│ dropout (\u001b[38;5;33mDropout\u001b[0m)               │ (\u001b[38;5;45mNone\u001b[0m, \u001b[38;5;34m64\u001b[0m)             │             \u001b[38;5;34m0\u001b[0m │\n",
       "├─────────────────────────────────┼────────────────────────┼───────────────┤\n",
       "│ dense_2 (\u001b[38;5;33mDense\u001b[0m)                 │ (\u001b[38;5;45mNone\u001b[0m, \u001b[38;5;34m128\u001b[0m)            │         \u001b[38;5;34m8,320\u001b[0m │\n",
       "├─────────────────────────────────┼────────────────────────┼───────────────┤\n",
       "│ dropout_1 (\u001b[38;5;33mDropout\u001b[0m)             │ (\u001b[38;5;45mNone\u001b[0m, \u001b[38;5;34m128\u001b[0m)            │             \u001b[38;5;34m0\u001b[0m │\n",
       "├─────────────────────────────────┼────────────────────────┼───────────────┤\n",
       "│ dense_3 (\u001b[38;5;33mDense\u001b[0m)                 │ (\u001b[38;5;45mNone\u001b[0m, \u001b[38;5;34m128\u001b[0m)            │        \u001b[38;5;34m16,512\u001b[0m │\n",
       "├─────────────────────────────────┼────────────────────────┼───────────────┤\n",
       "│ dropout_2 (\u001b[38;5;33mDropout\u001b[0m)             │ (\u001b[38;5;45mNone\u001b[0m, \u001b[38;5;34m128\u001b[0m)            │             \u001b[38;5;34m0\u001b[0m │\n",
       "├─────────────────────────────────┼────────────────────────┼───────────────┤\n",
       "│ dense_4 (\u001b[38;5;33mDense\u001b[0m)                 │ (\u001b[38;5;45mNone\u001b[0m, \u001b[38;5;34m64\u001b[0m)             │         \u001b[38;5;34m8,256\u001b[0m │\n",
       "├─────────────────────────────────┼────────────────────────┼───────────────┤\n",
       "│ dense_5 (\u001b[38;5;33mDense\u001b[0m)                 │ (\u001b[38;5;45mNone\u001b[0m, \u001b[38;5;34m1\u001b[0m)              │            \u001b[38;5;34m65\u001b[0m │\n",
       "└─────────────────────────────────┴────────────────────────┴───────────────┘\n"
      ]
     },
     "metadata": {},
     "output_type": "display_data"
    },
    {
     "data": {
      "text/html": [
       "<pre style=\"white-space:pre;overflow-x:auto;line-height:normal;font-family:Menlo,'DejaVu Sans Mono',consolas,'Courier New',monospace\"><span style=\"font-weight: bold\"> Total params: </span><span style=\"color: #00af00; text-decoration-color: #00af00\">34,881</span> (136.25 KB)\n",
       "</pre>\n"
      ],
      "text/plain": [
       "\u001b[1m Total params: \u001b[0m\u001b[38;5;34m34,881\u001b[0m (136.25 KB)\n"
      ]
     },
     "metadata": {},
     "output_type": "display_data"
    },
    {
     "data": {
      "text/html": [
       "<pre style=\"white-space:pre;overflow-x:auto;line-height:normal;font-family:Menlo,'DejaVu Sans Mono',consolas,'Courier New',monospace\"><span style=\"font-weight: bold\"> Trainable params: </span><span style=\"color: #00af00; text-decoration-color: #00af00\">34,881</span> (136.25 KB)\n",
       "</pre>\n"
      ],
      "text/plain": [
       "\u001b[1m Trainable params: \u001b[0m\u001b[38;5;34m34,881\u001b[0m (136.25 KB)\n"
      ]
     },
     "metadata": {},
     "output_type": "display_data"
    },
    {
     "data": {
      "text/html": [
       "<pre style=\"white-space:pre;overflow-x:auto;line-height:normal;font-family:Menlo,'DejaVu Sans Mono',consolas,'Courier New',monospace\"><span style=\"font-weight: bold\"> Non-trainable params: </span><span style=\"color: #00af00; text-decoration-color: #00af00\">0</span> (0.00 B)\n",
       "</pre>\n"
      ],
      "text/plain": [
       "\u001b[1m Non-trainable params: \u001b[0m\u001b[38;5;34m0\u001b[0m (0.00 B)\n"
      ]
     },
     "metadata": {},
     "output_type": "display_data"
    }
   ],
   "source": [
    "model.summary()"
   ]
  },
  {
   "cell_type": "code",
   "execution_count": 38,
   "id": "8ce74ac1",
   "metadata": {},
   "outputs": [
    {
     "name": "stdout",
     "output_type": "stream",
     "text": [
      "Epoch 1/50\n",
      "\u001b[1m235/235\u001b[0m \u001b[32m━━━━━━━━━━━━━━━━━━━━\u001b[0m\u001b[37m\u001b[0m \u001b[1m1s\u001b[0m 3ms/step - accuracy: 0.6834 - loss: 0.6239 - val_accuracy: 0.6791 - val_loss: 0.6312\n",
      "Epoch 2/50\n",
      "\u001b[1m235/235\u001b[0m \u001b[32m━━━━━━━━━━━━━━━━━━━━\u001b[0m\u001b[37m\u001b[0m \u001b[1m1s\u001b[0m 3ms/step - accuracy: 0.6792 - loss: 0.6265 - val_accuracy: 0.6791 - val_loss: 0.6296\n",
      "Epoch 3/50\n",
      "\u001b[1m235/235\u001b[0m \u001b[32m━━━━━━━━━━━━━━━━━━━━\u001b[0m\u001b[37m\u001b[0m \u001b[1m1s\u001b[0m 3ms/step - accuracy: 0.6789 - loss: 0.6267 - val_accuracy: 0.6791 - val_loss: 0.6335\n",
      "Epoch 4/50\n",
      "\u001b[1m235/235\u001b[0m \u001b[32m━━━━━━━━━━━━━━━━━━━━\u001b[0m\u001b[37m\u001b[0m \u001b[1m1s\u001b[0m 4ms/step - accuracy: 0.6820 - loss: 0.6246 - val_accuracy: 0.6791 - val_loss: 0.6315\n",
      "Epoch 5/50\n",
      "\u001b[1m235/235\u001b[0m \u001b[32m━━━━━━━━━━━━━━━━━━━━\u001b[0m\u001b[37m\u001b[0m \u001b[1m1s\u001b[0m 3ms/step - accuracy: 0.6743 - loss: 0.6301 - val_accuracy: 0.6791 - val_loss: 0.6317\n",
      "Epoch 6/50\n",
      "\u001b[1m235/235\u001b[0m \u001b[32m━━━━━━━━━━━━━━━━━━━━\u001b[0m\u001b[37m\u001b[0m \u001b[1m1s\u001b[0m 3ms/step - accuracy: 0.6831 - loss: 0.6233 - val_accuracy: 0.6791 - val_loss: 0.6318\n",
      "Epoch 7/50\n",
      "\u001b[1m235/235\u001b[0m \u001b[32m━━━━━━━━━━━━━━━━━━━━\u001b[0m\u001b[37m\u001b[0m \u001b[1m1s\u001b[0m 3ms/step - accuracy: 0.6763 - loss: 0.6286 - val_accuracy: 0.6791 - val_loss: 0.6316\n",
      "Epoch 8/50\n",
      "\u001b[1m235/235\u001b[0m \u001b[32m━━━━━━━━━━━━━━━━━━━━\u001b[0m\u001b[37m\u001b[0m \u001b[1m1s\u001b[0m 4ms/step - accuracy: 0.6806 - loss: 0.6255 - val_accuracy: 0.6791 - val_loss: 0.6335\n",
      "Epoch 9/50\n",
      "\u001b[1m235/235\u001b[0m \u001b[32m━━━━━━━━━━━━━━━━━━━━\u001b[0m\u001b[37m\u001b[0m \u001b[1m1s\u001b[0m 3ms/step - accuracy: 0.6816 - loss: 0.6246 - val_accuracy: 0.6791 - val_loss: 0.6318\n",
      "Epoch 10/50\n",
      "\u001b[1m235/235\u001b[0m \u001b[32m━━━━━━━━━━━━━━━━━━━━\u001b[0m\u001b[37m\u001b[0m \u001b[1m1s\u001b[0m 3ms/step - accuracy: 0.6766 - loss: 0.6285 - val_accuracy: 0.6791 - val_loss: 0.6328\n",
      "Epoch 11/50\n",
      "\u001b[1m235/235\u001b[0m \u001b[32m━━━━━━━━━━━━━━━━━━━━\u001b[0m\u001b[37m\u001b[0m \u001b[1m1s\u001b[0m 3ms/step - accuracy: 0.6792 - loss: 0.6266 - val_accuracy: 0.6789 - val_loss: 0.6317\n",
      "Epoch 12/50\n",
      "\u001b[1m235/235\u001b[0m \u001b[32m━━━━━━━━━━━━━━━━━━━━\u001b[0m\u001b[37m\u001b[0m \u001b[1m1s\u001b[0m 3ms/step - accuracy: 0.6766 - loss: 0.6281 - val_accuracy: 0.6788 - val_loss: 0.6308\n",
      "Epoch 13/50\n",
      "\u001b[1m235/235\u001b[0m \u001b[32m━━━━━━━━━━━━━━━━━━━━\u001b[0m\u001b[37m\u001b[0m \u001b[1m1s\u001b[0m 3ms/step - accuracy: 0.6823 - loss: 0.6241 - val_accuracy: 0.6791 - val_loss: 0.6334\n",
      "Epoch 14/50\n",
      "\u001b[1m235/235\u001b[0m \u001b[32m━━━━━━━━━━━━━━━━━━━━\u001b[0m\u001b[37m\u001b[0m \u001b[1m1s\u001b[0m 3ms/step - accuracy: 0.6794 - loss: 0.6260 - val_accuracy: 0.6791 - val_loss: 0.6339\n",
      "Epoch 15/50\n",
      "\u001b[1m235/235\u001b[0m \u001b[32m━━━━━━━━━━━━━━━━━━━━\u001b[0m\u001b[37m\u001b[0m \u001b[1m1s\u001b[0m 3ms/step - accuracy: 0.6765 - loss: 0.6281 - val_accuracy: 0.6787 - val_loss: 0.6342\n",
      "Epoch 16/50\n",
      "\u001b[1m235/235\u001b[0m \u001b[32m━━━━━━━━━━━━━━━━━━━━\u001b[0m\u001b[37m\u001b[0m \u001b[1m1s\u001b[0m 3ms/step - accuracy: 0.6789 - loss: 0.6259 - val_accuracy: 0.6791 - val_loss: 0.6353\n",
      "Epoch 17/50\n",
      "\u001b[1m235/235\u001b[0m \u001b[32m━━━━━━━━━━━━━━━━━━━━\u001b[0m\u001b[37m\u001b[0m \u001b[1m1s\u001b[0m 3ms/step - accuracy: 0.6810 - loss: 0.6247 - val_accuracy: 0.6787 - val_loss: 0.6431\n",
      "Epoch 18/50\n",
      "\u001b[1m235/235\u001b[0m \u001b[32m━━━━━━━━━━━━━━━━━━━━\u001b[0m\u001b[37m\u001b[0m \u001b[1m1s\u001b[0m 3ms/step - accuracy: 0.6793 - loss: 0.6257 - val_accuracy: 0.6788 - val_loss: 0.6371\n",
      "Epoch 19/50\n",
      "\u001b[1m235/235\u001b[0m \u001b[32m━━━━━━━━━━━━━━━━━━━━\u001b[0m\u001b[37m\u001b[0m \u001b[1m1s\u001b[0m 3ms/step - accuracy: 0.6765 - loss: 0.6277 - val_accuracy: 0.6784 - val_loss: 0.6385\n",
      "Epoch 20/50\n",
      "\u001b[1m235/235\u001b[0m \u001b[32m━━━━━━━━━━━━━━━━━━━━\u001b[0m\u001b[37m\u001b[0m \u001b[1m1s\u001b[0m 3ms/step - accuracy: 0.6800 - loss: 0.6254 - val_accuracy: 0.6785 - val_loss: 0.6375\n",
      "Epoch 21/50\n",
      "\u001b[1m235/235\u001b[0m \u001b[32m━━━━━━━━━━━━━━━━━━━━\u001b[0m\u001b[37m\u001b[0m \u001b[1m1s\u001b[0m 3ms/step - accuracy: 0.6781 - loss: 0.6265 - val_accuracy: 0.6788 - val_loss: 0.6392\n",
      "Epoch 22/50\n",
      "\u001b[1m235/235\u001b[0m \u001b[32m━━━━━━━━━━━━━━━━━━━━\u001b[0m\u001b[37m\u001b[0m \u001b[1m1s\u001b[0m 3ms/step - accuracy: 0.6799 - loss: 0.6250 - val_accuracy: 0.6783 - val_loss: 0.6380\n",
      "Epoch 23/50\n",
      "\u001b[1m235/235\u001b[0m \u001b[32m━━━━━━━━━━━━━━━━━━━━\u001b[0m\u001b[37m\u001b[0m \u001b[1m1s\u001b[0m 3ms/step - accuracy: 0.6829 - loss: 0.6228 - val_accuracy: 0.6779 - val_loss: 0.6383\n",
      "Epoch 24/50\n",
      "\u001b[1m235/235\u001b[0m \u001b[32m━━━━━━━━━━━━━━━━━━━━\u001b[0m\u001b[37m\u001b[0m \u001b[1m1s\u001b[0m 3ms/step - accuracy: 0.6734 - loss: 0.6299 - val_accuracy: 0.6763 - val_loss: 0.6440\n",
      "Epoch 25/50\n",
      "\u001b[1m235/235\u001b[0m \u001b[32m━━━━━━━━━━━━━━━━━━━━\u001b[0m\u001b[37m\u001b[0m \u001b[1m1s\u001b[0m 3ms/step - accuracy: 0.6829 - loss: 0.6228 - val_accuracy: 0.6784 - val_loss: 0.6392\n",
      "Epoch 26/50\n",
      "\u001b[1m235/235\u001b[0m \u001b[32m━━━━━━━━━━━━━━━━━━━━\u001b[0m\u001b[37m\u001b[0m \u001b[1m1s\u001b[0m 3ms/step - accuracy: 0.6817 - loss: 0.6242 - val_accuracy: 0.6779 - val_loss: 0.6392\n",
      "Epoch 27/50\n",
      "\u001b[1m235/235\u001b[0m \u001b[32m━━━━━━━━━━━━━━━━━━━━\u001b[0m\u001b[37m\u001b[0m \u001b[1m1s\u001b[0m 3ms/step - accuracy: 0.6813 - loss: 0.6237 - val_accuracy: 0.6785 - val_loss: 0.6419\n",
      "Epoch 28/50\n",
      "\u001b[1m235/235\u001b[0m \u001b[32m━━━━━━━━━━━━━━━━━━━━\u001b[0m\u001b[37m\u001b[0m \u001b[1m1s\u001b[0m 3ms/step - accuracy: 0.6796 - loss: 0.6256 - val_accuracy: 0.6777 - val_loss: 0.6449\n",
      "Epoch 29/50\n",
      "\u001b[1m235/235\u001b[0m \u001b[32m━━━━━━━━━━━━━━━━━━━━\u001b[0m\u001b[37m\u001b[0m \u001b[1m1s\u001b[0m 3ms/step - accuracy: 0.6772 - loss: 0.6269 - val_accuracy: 0.6780 - val_loss: 0.6439\n",
      "Epoch 30/50\n",
      "\u001b[1m235/235\u001b[0m \u001b[32m━━━━━━━━━━━━━━━━━━━━\u001b[0m\u001b[37m\u001b[0m \u001b[1m1s\u001b[0m 3ms/step - accuracy: 0.6802 - loss: 0.6248 - val_accuracy: 0.6776 - val_loss: 0.6376\n",
      "Epoch 31/50\n",
      "\u001b[1m235/235\u001b[0m \u001b[32m━━━━━━━━━━━━━━━━━━━━\u001b[0m\u001b[37m\u001b[0m \u001b[1m1s\u001b[0m 3ms/step - accuracy: 0.6849 - loss: 0.6207 - val_accuracy: 0.6775 - val_loss: 0.6462\n",
      "Epoch 32/50\n",
      "\u001b[1m235/235\u001b[0m \u001b[32m━━━━━━━━━━━━━━━━━━━━\u001b[0m\u001b[37m\u001b[0m \u001b[1m1s\u001b[0m 3ms/step - accuracy: 0.6822 - loss: 0.6231 - val_accuracy: 0.6773 - val_loss: 0.6405\n",
      "Epoch 33/50\n",
      "\u001b[1m235/235\u001b[0m \u001b[32m━━━━━━━━━━━━━━━━━━━━\u001b[0m\u001b[37m\u001b[0m \u001b[1m1s\u001b[0m 3ms/step - accuracy: 0.6807 - loss: 0.6240 - val_accuracy: 0.6779 - val_loss: 0.6417\n",
      "Epoch 34/50\n",
      "\u001b[1m235/235\u001b[0m \u001b[32m━━━━━━━━━━━━━━━━━━━━\u001b[0m\u001b[37m\u001b[0m \u001b[1m1s\u001b[0m 3ms/step - accuracy: 0.6789 - loss: 0.6252 - val_accuracy: 0.6775 - val_loss: 0.6433\n",
      "Epoch 35/50\n",
      "\u001b[1m235/235\u001b[0m \u001b[32m━━━━━━━━━━━━━━━━━━━━\u001b[0m\u001b[37m\u001b[0m \u001b[1m1s\u001b[0m 3ms/step - accuracy: 0.6834 - loss: 0.6215 - val_accuracy: 0.6777 - val_loss: 0.6436\n",
      "Epoch 36/50\n",
      "\u001b[1m235/235\u001b[0m \u001b[32m━━━━━━━━━━━━━━━━━━━━\u001b[0m\u001b[37m\u001b[0m \u001b[1m1s\u001b[0m 3ms/step - accuracy: 0.6836 - loss: 0.6211 - val_accuracy: 0.6776 - val_loss: 0.6498\n",
      "Epoch 37/50\n",
      "\u001b[1m235/235\u001b[0m \u001b[32m━━━━━━━━━━━━━━━━━━━━\u001b[0m\u001b[37m\u001b[0m \u001b[1m1s\u001b[0m 3ms/step - accuracy: 0.6819 - loss: 0.6234 - val_accuracy: 0.6779 - val_loss: 0.6422\n",
      "Epoch 38/50\n",
      "\u001b[1m235/235\u001b[0m \u001b[32m━━━━━━━━━━━━━━━━━━━━\u001b[0m\u001b[37m\u001b[0m \u001b[1m1s\u001b[0m 3ms/step - accuracy: 0.6863 - loss: 0.6200 - val_accuracy: 0.6775 - val_loss: 0.6448\n",
      "Epoch 39/50\n",
      "\u001b[1m235/235\u001b[0m \u001b[32m━━━━━━━━━━━━━━━━━━━━\u001b[0m\u001b[37m\u001b[0m \u001b[1m1s\u001b[0m 3ms/step - accuracy: 0.6815 - loss: 0.6229 - val_accuracy: 0.6775 - val_loss: 0.6508\n",
      "Epoch 40/50\n",
      "\u001b[1m235/235\u001b[0m \u001b[32m━━━━━━━━━━━━━━━━━━━━\u001b[0m\u001b[37m\u001b[0m \u001b[1m1s\u001b[0m 3ms/step - accuracy: 0.6853 - loss: 0.6195 - val_accuracy: 0.6777 - val_loss: 0.6487\n",
      "Epoch 41/50\n",
      "\u001b[1m235/235\u001b[0m \u001b[32m━━━━━━━━━━━━━━━━━━━━\u001b[0m\u001b[37m\u001b[0m \u001b[1m1s\u001b[0m 3ms/step - accuracy: 0.6846 - loss: 0.6203 - val_accuracy: 0.6777 - val_loss: 0.6546\n",
      "Epoch 42/50\n",
      "\u001b[1m235/235\u001b[0m \u001b[32m━━━━━━━━━━━━━━━━━━━━\u001b[0m\u001b[37m\u001b[0m \u001b[1m1s\u001b[0m 3ms/step - accuracy: 0.6824 - loss: 0.6216 - val_accuracy: 0.6775 - val_loss: 0.6510\n",
      "Epoch 43/50\n",
      "\u001b[1m235/235\u001b[0m \u001b[32m━━━━━━━━━━━━━━━━━━━━\u001b[0m\u001b[37m\u001b[0m \u001b[1m1s\u001b[0m 3ms/step - accuracy: 0.6820 - loss: 0.6227 - val_accuracy: 0.6777 - val_loss: 0.6511\n",
      "Epoch 44/50\n",
      "\u001b[1m235/235\u001b[0m \u001b[32m━━━━━━━━━━━━━━━━━━━━\u001b[0m\u001b[37m\u001b[0m \u001b[1m1s\u001b[0m 3ms/step - accuracy: 0.6813 - loss: 0.6228 - val_accuracy: 0.6777 - val_loss: 0.6538\n",
      "Epoch 45/50\n",
      "\u001b[1m235/235\u001b[0m \u001b[32m━━━━━━━━━━━━━━━━━━━━\u001b[0m\u001b[37m\u001b[0m \u001b[1m1s\u001b[0m 3ms/step - accuracy: 0.6799 - loss: 0.6229 - val_accuracy: 0.6777 - val_loss: 0.6484\n",
      "Epoch 46/50\n",
      "\u001b[1m235/235\u001b[0m \u001b[32m━━━━━━━━━━━━━━━━━━━━\u001b[0m\u001b[37m\u001b[0m \u001b[1m1s\u001b[0m 3ms/step - accuracy: 0.6809 - loss: 0.6233 - val_accuracy: 0.6779 - val_loss: 0.6524\n",
      "Epoch 47/50\n",
      "\u001b[1m235/235\u001b[0m \u001b[32m━━━━━━━━━━━━━━━━━━━━\u001b[0m\u001b[37m\u001b[0m \u001b[1m1s\u001b[0m 3ms/step - accuracy: 0.6817 - loss: 0.6218 - val_accuracy: 0.6776 - val_loss: 0.6452\n",
      "Epoch 48/50\n",
      "\u001b[1m235/235\u001b[0m \u001b[32m━━━━━━━━━━━━━━━━━━━━\u001b[0m\u001b[37m\u001b[0m \u001b[1m1s\u001b[0m 3ms/step - accuracy: 0.6836 - loss: 0.6199 - val_accuracy: 0.6776 - val_loss: 0.6488\n",
      "Epoch 49/50\n",
      "\u001b[1m235/235\u001b[0m \u001b[32m━━━━━━━━━━━━━━━━━━━━\u001b[0m\u001b[37m\u001b[0m \u001b[1m1s\u001b[0m 3ms/step - accuracy: 0.6820 - loss: 0.6223 - val_accuracy: 0.6775 - val_loss: 0.6559\n",
      "Epoch 50/50\n",
      "\u001b[1m235/235\u001b[0m \u001b[32m━━━━━━━━━━━━━━━━━━━━\u001b[0m\u001b[37m\u001b[0m \u001b[1m1s\u001b[0m 3ms/step - accuracy: 0.6780 - loss: 0.6246 - val_accuracy: 0.6773 - val_loss: 0.6549\n"
     ]
    },
    {
     "data": {
      "text/plain": [
       "<keras.src.callbacks.history.History at 0x1adb426f890>"
      ]
     },
     "execution_count": 38,
     "metadata": {},
     "output_type": "execute_result"
    }
   ],
   "source": [
    "model.fit(X_train_distance, y_train_distance, batch_size = 128, epochs = 50, validation_split = 0.20)"
   ]
  },
  {
   "cell_type": "code",
   "execution_count": 43,
   "id": "8214a024",
   "metadata": {},
   "outputs": [
    {
     "name": "stdout",
     "output_type": "stream",
     "text": [
      "\u001b[1m391/391\u001b[0m \u001b[32m━━━━━━━━━━━━━━━━━━━━\u001b[0m\u001b[37m\u001b[0m \u001b[1m0s\u001b[0m 889us/step\n"
     ]
    }
   ],
   "source": [
    "y_pred = model.predict(X_test_distance)"
   ]
  },
  {
   "cell_type": "code",
   "execution_count": 44,
   "id": "83f02232",
   "metadata": {},
   "outputs": [
    {
     "data": {
      "text/plain": [
       "array([[0.31325936],\n",
       "       [0.31325936],\n",
       "       [0.31325936],\n",
       "       ...,\n",
       "       [0.31325936],\n",
       "       [0.31325936],\n",
       "       [0.31325936]], dtype=float32)"
      ]
     },
     "execution_count": 44,
     "metadata": {},
     "output_type": "execute_result"
    }
   ],
   "source": [
    "y_pred"
   ]
  },
  {
   "cell_type": "code",
   "execution_count": 45,
   "id": "d35b065b",
   "metadata": {},
   "outputs": [],
   "source": [
    "y_pred = (y_pred > 0.3).astype(int)"
   ]
  },
  {
   "cell_type": "code",
   "execution_count": 46,
   "id": "f513fa5c",
   "metadata": {},
   "outputs": [
    {
     "data": {
      "text/plain": [
       "array([[1],\n",
       "       [1],\n",
       "       [1],\n",
       "       ...,\n",
       "       [1],\n",
       "       [1],\n",
       "       [1]])"
      ]
     },
     "execution_count": 46,
     "metadata": {},
     "output_type": "execute_result"
    }
   ],
   "source": [
    "y_pred"
   ]
  },
  {
   "cell_type": "code",
   "execution_count": 47,
   "id": "97ed07c6",
   "metadata": {},
   "outputs": [
    {
     "name": "stdout",
     "output_type": "stream",
     "text": [
      "accuracy_score : 0.3316\n",
      "Confusion matrix : \n",
      "[[ 149 8299]\n",
      " [  56 3996]]\n",
      "              precision    recall  f1-score   support\n",
      "\n",
      "           0       0.73      0.02      0.03      8448\n",
      "           1       0.33      0.99      0.49      4052\n",
      "\n",
      "    accuracy                           0.33     12500\n",
      "   macro avg       0.53      0.50      0.26     12500\n",
      "weighted avg       0.60      0.33      0.18     12500\n",
      "\n"
     ]
    }
   ],
   "source": [
    "metrices(y_test_distance, y_pred)"
   ]
  },
  {
   "cell_type": "markdown",
   "id": "0d85067d",
   "metadata": {},
   "source": [
    "### ------------------ end results ---------------------------------- "
   ]
  },
  {
   "cell_type": "code",
   "execution_count": 48,
   "id": "0bdeaae1",
   "metadata": {},
   "outputs": [],
   "source": [
    "### models are not learning the pattern itself it there's no feature\n",
    "### that can be linked to the target feature"
   ]
  },
  {
   "cell_type": "markdown",
   "id": "df3d308a",
   "metadata": {},
   "source": [
    "### -------------------- end results ----------------------------------------"
   ]
  },
  {
   "cell_type": "markdown",
   "id": "e579405e",
   "metadata": {},
   "source": [
    "## Algorithm testing : 3"
   ]
  },
  {
   "cell_type": "code",
   "execution_count": 49,
   "id": "84b89a7f",
   "metadata": {},
   "outputs": [],
   "source": [
    "### this time I am dropping either of those two features, one at a time"
   ]
  },
  {
   "cell_type": "code",
   "execution_count": null,
   "id": "4729cdcb",
   "metadata": {},
   "outputs": [],
   "source": []
  },
  {
   "cell_type": "code",
   "execution_count": null,
   "id": "cb2fa41a",
   "metadata": {},
   "outputs": [],
   "source": []
  },
  {
   "cell_type": "code",
   "execution_count": null,
   "id": "5fbc0ed2",
   "metadata": {},
   "outputs": [],
   "source": []
  },
  {
   "cell_type": "code",
   "execution_count": null,
   "id": "8304f121",
   "metadata": {},
   "outputs": [],
   "source": []
  },
  {
   "cell_type": "code",
   "execution_count": null,
   "id": "93adb6e4",
   "metadata": {},
   "outputs": [],
   "source": []
  },
  {
   "cell_type": "code",
   "execution_count": null,
   "id": "775236cf",
   "metadata": {},
   "outputs": [],
   "source": []
  },
  {
   "cell_type": "code",
   "execution_count": null,
   "id": "818c5a55",
   "metadata": {},
   "outputs": [],
   "source": []
  },
  {
   "cell_type": "code",
   "execution_count": null,
   "id": "3c3f36a3",
   "metadata": {},
   "outputs": [],
   "source": []
  },
  {
   "cell_type": "code",
   "execution_count": null,
   "id": "69ff55ac",
   "metadata": {},
   "outputs": [],
   "source": []
  },
  {
   "cell_type": "code",
   "execution_count": null,
   "id": "6ffe6d28",
   "metadata": {},
   "outputs": [],
   "source": []
  }
 ],
 "metadata": {
  "kernelspec": {
   "display_name": "venv",
   "language": "python",
   "name": "venv"
  },
  "language_info": {
   "codemirror_mode": {
    "name": "ipython",
    "version": 3
   },
   "file_extension": ".py",
   "mimetype": "text/x-python",
   "name": "python",
   "nbconvert_exporter": "python",
   "pygments_lexer": "ipython3",
   "version": "3.12.7"
  }
 },
 "nbformat": 4,
 "nbformat_minor": 5
}
